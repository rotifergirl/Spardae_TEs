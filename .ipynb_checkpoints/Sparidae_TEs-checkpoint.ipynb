{
 "cells": [
  {
   "cell_type": "markdown",
   "id": "8c6df1b4-acca-4c02-af42-cacca7fc6edf",
   "metadata": {},
   "source": [
    "# Analyses of transposable elements in Sparidae genomes\n",
    "\n",
    "## Genomes included:\n",
    "* C. auratus: PFR internal\n",
    "* P. major: GCA_002897255.1\n",
    "* A. latus: GCA_904848185.1\n",
    "* S. aurata: GCA_003309015.1\n",
    "* S. cantharus: GCA_900302685.1\n",
    "* D. sargus: GCA_903131615.1\n",
    "\n"
   ]
  }
 ],
 "metadata": {
  "kernelspec": {
   "display_name": "PFR Python3-3.7.7",
   "language": "python",
   "name": "pfr-python3-3.7.7"
  },
  "language_info": {
   "codemirror_mode": {
    "name": "ipython",
    "version": 3
   },
   "file_extension": ".py",
   "mimetype": "text/x-python",
   "name": "python",
   "nbconvert_exporter": "python",
   "pygments_lexer": "ipython3",
   "version": "3.7.7"
  }
 },
 "nbformat": 4,
 "nbformat_minor": 5
}
